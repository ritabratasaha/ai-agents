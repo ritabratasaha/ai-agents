{
 "cells": [
  {
   "cell_type": "code",
   "execution_count": null,
   "id": "3199fd33",
   "metadata": {},
   "outputs": [],
   "source": [
    "from dotenv import load_dotenv\n",
    "import os\n",
    "load_dotenv(dotenv_path=\".env\", override=True)"
   ]
  },
  {
   "cell_type": "code",
   "execution_count": null,
   "id": "b05967ea",
   "metadata": {},
   "outputs": [],
   "source": [
    "## Tools\n",
    "\n",
    "from langchain_openai import ChatOpenAI\n",
    "from pydantic import BaseModel,Field\n",
    "import openai\n",
    "from langsmith.wrappers import wrap_openai\n",
    "from langsmith import traceable\n",
    "from langgraph.prebuilt import create_react_agent\n",
    "from langchain_core.tools import tool\n",
    "import requests\n",
    "\n",
    "llm = ChatOpenAI(model=\"gpt-4o\")\n",
    "\n",
    "# Create specialized agents\n",
    "\n",
    "@tool\n",
    "def fetch_emp_data(username:str, password :str) -> dict:\n",
    "    \"\"\"\n",
    "    Fetches employee data from an external API.\n",
    "\n",
    "    Parameters:\n",
    "        username (str) : An username of an employee. This can be an email id as well\n",
    "        password (str) : A passphrase used to authenticate an employee\n",
    "\n",
    "    Returns:\n",
    "        dict: A dictionary with employee details.\n",
    "    \"\"\"\n",
    "    payload = {\n",
    "        \"username\": username.lower(),\n",
    "        \"password\": password\n",
    "    }\n",
    "    base_url = \"http://127.0.0.1:5000/find_details\"\n",
    "    \n",
    "    print(f\"--- Calling external API to fetch leave data for username: {username} ---\")\n",
    "    \n",
    "    try:\n",
    "        response = requests.post(base_url,data=payload)\n",
    "        data = response.json()\n",
    "        print (data)\n",
    "        return data\n",
    "    except requests.exceptions.ConnectionError as e:\n",
    "        print(f\"\\nError: Could not connect to the Flask server.\")\n",
    "        print(f\"Error details: {e}\")\n",
    "    except requests.exceptions.HTTPError as e:\n",
    "        print(f\"\\nError: HTTP request failed with status code {response.status_code}\")\n",
    "        print(f\"Error details: {e}\")\n",
    "    except Exception as e:\n",
    "        print(f\"\\nAn unexpected error occurred: {e}\")\n",
    "\n"
   ]
  },
  {
   "cell_type": "code",
   "execution_count": null,
   "id": "cb7cfff8",
   "metadata": {},
   "outputs": [],
   "source": [
    "## Agents\n",
    "\n",
    "employee_agent = create_react_agent(\n",
    "    model=llm,\n",
    "    tools=[fetch_emp_data],\n",
    "    name=\"employee_agent\",\n",
    "    prompt=\"You are an agent that pulls employee information from an external API\"\n",
    ")\n",
    "\n",
    "\n"
   ]
  },
  {
   "cell_type": "code",
   "execution_count": null,
   "id": "7205dbb3",
   "metadata": {},
   "outputs": [],
   "source": [
    "#Compile and run\n",
    "\n",
    "result = employee_agent.invoke({\n",
    "    \"messages\": [\n",
    "        {\n",
    "            \"role\": \"user\",\n",
    "            \"content\": \"Can you find the number of remaining sick leaves for the employee with username = risaha@redhat.com and password = Hello!123 ? \"\n",
    "        }\n",
    "    ]\n",
    "})\n",
    "\n",
    "print(result)"
   ]
  },
  {
   "cell_type": "code",
   "execution_count": null,
   "id": "727442e6",
   "metadata": {},
   "outputs": [],
   "source": [
    "from langchain_core.messages import BaseMessage, HumanMessage, AIMessage, ToolMessage\n",
    "\n",
    "for msg in result['messages']:    \n",
    "    msg.pretty_print()"
   ]
  },
  {
   "cell_type": "code",
   "execution_count": null,
   "id": "2fece614",
   "metadata": {},
   "outputs": [],
   "source": [
    "for msg in result['messages']:    \n",
    "  \n",
    "    if isinstance(msg, ToolMessage) :\n",
    "        print(f\"Tool Message name: {msg.name}\")\n",
    "        print(f\"Tool Message content: {msg.content}\")"
   ]
  }
 ],
 "metadata": {
  "kernelspec": {
   "display_name": "aiagent",
   "language": "python",
   "name": "python3"
  },
  "language_info": {
   "codemirror_mode": {
    "name": "ipython",
    "version": 3
   },
   "file_extension": ".py",
   "mimetype": "text/x-python",
   "name": "python",
   "nbconvert_exporter": "python",
   "pygments_lexer": "ipython3",
   "version": "3.12.11"
  }
 },
 "nbformat": 4,
 "nbformat_minor": 5
}
