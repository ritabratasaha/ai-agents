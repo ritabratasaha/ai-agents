{
 "cells": [
  {
   "cell_type": "code",
   "execution_count": 1,
   "id": "dc12bf92",
   "metadata": {},
   "outputs": [],
   "source": [
    "## Create embeddings and save to vector store\n",
    "\n",
    "from langchain_openai import OpenAIEmbeddings\n",
    "from langchain_chroma import Chroma\n",
    "from langchain_core.prompts import ChatPromptTemplate\n",
    "from langchain.chains.combine_documents import create_stuff_documents_chain\n",
    "from langchain.chains import create_retrieval_chain\n",
    "from langchain_openai import OpenAIEmbeddings, ChatOpenAI\n",
    "from dotenv import load_dotenv\n",
    "import os\n",
    "\n",
    "load_dotenv(dotenv_path=\".env\", override=True)\n",
    "os.environ[\"OPENAI_API_KEY\"] = os.getenv(\"OPENAI_API_KEY\")\n",
    "llm = ChatOpenAI(model=\"gpt-3.5-turbo\", temperature=0.7)\n"
   ]
  },
  {
   "cell_type": "code",
   "execution_count": 2,
   "id": "adaac2bd",
   "metadata": {},
   "outputs": [],
   "source": [
    "from typing import List, Dict , TypedDict\n",
    "from typing import Annotated, Literal, TypedDict\n",
    "from langchain_core.messages import BaseMessage, HumanMessage, AIMessage\n",
    "from langchain.schema import Document\n",
    "from pydantic import BaseModel,Field\n",
    "import openai\n",
    "from langsmith.wrappers import wrap_openai\n",
    "from langsmith import traceable\n",
    "\n",
    "# Auto-trace LLM calls in-context\n",
    "client = wrap_openai(openai.Client())\n"
   ]
  },
  {
   "cell_type": "code",
   "execution_count": 3,
   "id": "80152223",
   "metadata": {},
   "outputs": [],
   "source": [
    "from typing import List, Dict , TypedDict\n",
    "from typing import Annotated, Literal, TypedDict\n",
    "from langchain_core.messages import BaseMessage, HumanMessage, AIMessage,ToolMessage\n",
    "from langgraph.graph import MessagesState, StateGraph\n",
    "from langchain_core.tools import tool\n",
    "\n",
    "@tool\n",
    "def generate_email(no_of_leaves: int, total_enchashment: float, purpose: str) -> str:\n",
    "    \"\"\"\n",
    "    Returns an email with the following information about the employee \n",
    "        1. No of leaves\n",
    "        2. Total encashment amount\n",
    "        2. Purpose of the email\n",
    "    The target recepient of the email is an HR Manager of the department\n",
    "\n",
    "    Parameters:\n",
    "    no_of_leaves (int): No of leaves \n",
    "    total_encashment (float) : Total value of the leaves\n",
    "    purpose (str): Purpose of the email\n",
    "\n",
    "    Returns:\n",
    "    str :  This is an email generated\n",
    "    \n",
    "    \"\"\"\n",
    "\n",
    "    llm = ChatOpenAI(model=\"gpt-4o\", temperature=0)\n",
    "    prompt_fmt = f\"\"\"You are email writing assistant.\n",
    "                    Please write a short email to a HR manager with the following information.\n",
    "                    Leaves : {no_of_leaves}\n",
    "                    Total Encashment value : {total_enchashment}\n",
    "                    Purpose : {purpose}\n",
    "                    Please include the date on which the email is written.\n",
    "                \"\"\"\n",
    "    llm_response = llm.invoke(prompt_fmt) \n",
    "    return (llm_response)\n"
   ]
  },
  {
   "cell_type": "code",
   "execution_count": null,
   "id": "55d5f6fa",
   "metadata": {},
   "outputs": [],
   "source": [
    "from langgraph.prebuilt import create_react_agent\n",
    "\n",
    "email_agent = create_react_agent(\n",
    "    model=llm,\n",
    "    tools=[generate_email],\n",
    "    name=\"email_agent\",\n",
    "    prompt=\"You are an agent that writes an email to a Hr practitioner\"\n",
    ")"
   ]
  },
  {
   "cell_type": "code",
   "execution_count": 7,
   "id": "d8e31ad9",
   "metadata": {},
   "outputs": [
    {
     "name": "stdout",
     "output_type": "stream",
     "text": [
      "{'messages': [HumanMessage(content='Write an email to encash 15 earned leaves with a total valuation of 32000 INR to the HR requesting to process immediately?', additional_kwargs={}, response_metadata={}, id='d6cd2e93-1055-4b75-a3e0-49184237d949'), AIMessage(content='', additional_kwargs={'tool_calls': [{'id': 'call_ucurTbBEcKu43ExIEcFUzmcF', 'function': {'arguments': '{\"no_of_leaves\":15,\"total_enchashment\":32000,\"purpose\":\"Request for immediate processing of encashment of earned leaves\"}', 'name': 'generate_email'}, 'type': 'function'}], 'refusal': None}, response_metadata={'token_usage': {'completion_tokens': 40, 'prompt_tokens': 204, 'total_tokens': 244, 'completion_tokens_details': {'accepted_prediction_tokens': 0, 'audio_tokens': 0, 'reasoning_tokens': 0, 'rejected_prediction_tokens': 0}, 'prompt_tokens_details': {'audio_tokens': 0, 'cached_tokens': 0}}, 'model_name': 'gpt-3.5-turbo-0125', 'system_fingerprint': None, 'id': 'chatcmpl-C56yZStxTbJSOAGFA3ClKn4UZPSsl', 'service_tier': 'default', 'finish_reason': 'tool_calls', 'logprobs': None}, name='email_agent', id='run--727e6e9e-b475-404e-a58c-9f2c9bbabe36-0', tool_calls=[{'name': 'generate_email', 'args': {'no_of_leaves': 15, 'total_enchashment': 32000, 'purpose': 'Request for immediate processing of encashment of earned leaves'}, 'id': 'call_ucurTbBEcKu43ExIEcFUzmcF', 'type': 'tool_call'}], usage_metadata={'input_tokens': 204, 'output_tokens': 40, 'total_tokens': 244, 'input_token_details': {'audio': 0, 'cache_read': 0}, 'output_token_details': {'audio': 0, 'reasoning': 0}}), ToolMessage(content='content=\"Subject: Request for Immediate Processing of Earned Leave Encashment\\\\n\\\\nDear [HR Manager\\'s Name],\\\\n\\\\nI hope this message finds you well. I am writing to request the immediate processing of my earned leave encashment. As of today, [Date], I have a total of 15 earned leaves available for encashment. The total encashment value amounts to 32,000.0.\\\\n\\\\nI would appreciate it if you could expedite this process at your earliest convenience. Please let me know if you need any further information or documentation from my side to facilitate this request.\\\\n\\\\nThank you for your attention to this matter.\\\\n\\\\nBest regards,\\\\n\\\\n[Your Name]  \\\\n[Your Position]  \\\\n[Your Contact Information]\" additional_kwargs={\\'refusal\\': None} response_metadata={\\'token_usage\\': {\\'completion_tokens\\': 144, \\'prompt_tokens\\': 75, \\'total_tokens\\': 219, \\'completion_tokens_details\\': {\\'accepted_prediction_tokens\\': 0, \\'audio_tokens\\': 0, \\'reasoning_tokens\\': 0, \\'rejected_prediction_tokens\\': 0}, \\'prompt_tokens_details\\': {\\'audio_tokens\\': 0, \\'cached_tokens\\': 0}}, \\'model_name\\': \\'gpt-4o-2024-08-06\\', \\'system_fingerprint\\': \\'fp_46bff0e0c8\\', \\'id\\': \\'chatcmpl-C56yZu663XPhnsG1BPBDDsdVPgGO9\\', \\'service_tier\\': \\'default\\', \\'finish_reason\\': \\'stop\\', \\'logprobs\\': None} id=\\'run--b7734542-0ba9-46e4-b172-625292552d2d-0\\' usage_metadata={\\'input_tokens\\': 75, \\'output_tokens\\': 144, \\'total_tokens\\': 219, \\'input_token_details\\': {\\'audio\\': 0, \\'cache_read\\': 0}, \\'output_token_details\\': {\\'audio\\': 0, \\'reasoning\\': 0}}', name='generate_email', id='49c3e5e5-c869-4928-a399-f94de5793177', tool_call_id='call_ucurTbBEcKu43ExIEcFUzmcF'), AIMessage(content=\"I have drafted the email requesting the immediate processing of encashment for 15 earned leaves with a total valuation of 32,000 INR. \\n\\n---\\n\\nSubject: Request for Immediate Processing of Earned Leave Encashment\\n\\nDear [HR Manager's Name],\\n\\nI hope this message finds you well. I am writing to request the immediate processing of my earned leave encashment. As of today, [Date], I have a total of 15 earned leaves available for encashment. The total encashment value amounts to 32,000.0.\\n\\nI would appreciate it if you could expedite this process at your earliest convenience. Please let me know if you need any further information or documentation from my side to facilitate this request.\\n\\nThank you for your attention to this matter.\\n\\nBest regards,\\n\\n[Your Name]  \\n[Your Position]  \\n[Your Contact Information]\\n\\n--- \\n\\nYou can personalize it with your details before sending it to the HR Manager. Let me know if you need any further assistance!\", additional_kwargs={'refusal': None}, response_metadata={'token_usage': {'completion_tokens': 205, 'prompt_tokens': 678, 'total_tokens': 883, 'completion_tokens_details': {'accepted_prediction_tokens': 0, 'audio_tokens': 0, 'reasoning_tokens': 0, 'rejected_prediction_tokens': 0}, 'prompt_tokens_details': {'audio_tokens': 0, 'cached_tokens': 0}}, 'model_name': 'gpt-3.5-turbo-0125', 'system_fingerprint': None, 'id': 'chatcmpl-C56ycKOK2uQU1Sji7MOzzolAacDEc', 'service_tier': 'default', 'finish_reason': 'stop', 'logprobs': None}, name='email_agent', id='run--c520ee7d-1b18-4f7e-beb2-31d70e17697f-0', usage_metadata={'input_tokens': 678, 'output_tokens': 205, 'total_tokens': 883, 'input_token_details': {'audio': 0, 'cache_read': 0}, 'output_token_details': {'audio': 0, 'reasoning': 0}})]}\n"
     ]
    }
   ],
   "source": [
    "\n",
    "# app = email_agent.compile()\n",
    "result = email_agent.invoke({\n",
    "    \"messages\": [\n",
    "        {\n",
    "            \"role\": \"user\",\n",
    "            \"content\": \"Write an email to encash 15 earned leaves with a total valuation of 32000 INR to the HR requesting to process immediately?\"                        \n",
    "        }\n",
    "    ]\n",
    "})\n",
    "\n",
    "print(result)\n"
   ]
  },
  {
   "cell_type": "code",
   "execution_count": 8,
   "id": "452c44ef",
   "metadata": {},
   "outputs": [
    {
     "name": "stdout",
     "output_type": "stream",
     "text": [
      "================================\u001b[1m Human Message \u001b[0m=================================\n",
      "\n",
      "Write an email to encash 15 earned leaves with a total valuation of 32000 INR to the HR requesting to process immediately?\n",
      "==================================\u001b[1m Ai Message \u001b[0m==================================\n",
      "Name: email_agent\n",
      "Tool Calls:\n",
      "  generate_email (call_ucurTbBEcKu43ExIEcFUzmcF)\n",
      " Call ID: call_ucurTbBEcKu43ExIEcFUzmcF\n",
      "  Args:\n",
      "    no_of_leaves: 15\n",
      "    total_enchashment: 32000\n",
      "    purpose: Request for immediate processing of encashment of earned leaves\n",
      "=================================\u001b[1m Tool Message \u001b[0m=================================\n",
      "Name: generate_email\n",
      "\n",
      "content=\"Subject: Request for Immediate Processing of Earned Leave Encashment\\n\\nDear [HR Manager's Name],\\n\\nI hope this message finds you well. I am writing to request the immediate processing of my earned leave encashment. As of today, [Date], I have a total of 15 earned leaves available for encashment. The total encashment value amounts to 32,000.0.\\n\\nI would appreciate it if you could expedite this process at your earliest convenience. Please let me know if you need any further information or documentation from my side to facilitate this request.\\n\\nThank you for your attention to this matter.\\n\\nBest regards,\\n\\n[Your Name]  \\n[Your Position]  \\n[Your Contact Information]\" additional_kwargs={'refusal': None} response_metadata={'token_usage': {'completion_tokens': 144, 'prompt_tokens': 75, 'total_tokens': 219, 'completion_tokens_details': {'accepted_prediction_tokens': 0, 'audio_tokens': 0, 'reasoning_tokens': 0, 'rejected_prediction_tokens': 0}, 'prompt_tokens_details': {'audio_tokens': 0, 'cached_tokens': 0}}, 'model_name': 'gpt-4o-2024-08-06', 'system_fingerprint': 'fp_46bff0e0c8', 'id': 'chatcmpl-C56yZu663XPhnsG1BPBDDsdVPgGO9', 'service_tier': 'default', 'finish_reason': 'stop', 'logprobs': None} id='run--b7734542-0ba9-46e4-b172-625292552d2d-0' usage_metadata={'input_tokens': 75, 'output_tokens': 144, 'total_tokens': 219, 'input_token_details': {'audio': 0, 'cache_read': 0}, 'output_token_details': {'audio': 0, 'reasoning': 0}}\n",
      "==================================\u001b[1m Ai Message \u001b[0m==================================\n",
      "Name: email_agent\n",
      "\n",
      "I have drafted the email requesting the immediate processing of encashment for 15 earned leaves with a total valuation of 32,000 INR. \n",
      "\n",
      "---\n",
      "\n",
      "Subject: Request for Immediate Processing of Earned Leave Encashment\n",
      "\n",
      "Dear [HR Manager's Name],\n",
      "\n",
      "I hope this message finds you well. I am writing to request the immediate processing of my earned leave encashment. As of today, [Date], I have a total of 15 earned leaves available for encashment. The total encashment value amounts to 32,000.0.\n",
      "\n",
      "I would appreciate it if you could expedite this process at your earliest convenience. Please let me know if you need any further information or documentation from my side to facilitate this request.\n",
      "\n",
      "Thank you for your attention to this matter.\n",
      "\n",
      "Best regards,\n",
      "\n",
      "[Your Name]  \n",
      "[Your Position]  \n",
      "[Your Contact Information]\n",
      "\n",
      "--- \n",
      "\n",
      "You can personalize it with your details before sending it to the HR Manager. Let me know if you need any further assistance!\n"
     ]
    }
   ],
   "source": [
    "\n",
    "\n",
    "for msg in result['messages']:    \n",
    "    msg.pretty_print()\n",
    "\n"
   ]
  },
  {
   "cell_type": "code",
   "execution_count": 9,
   "id": "9a1eb276",
   "metadata": {},
   "outputs": [
    {
     "name": "stdout",
     "output_type": "stream",
     "text": [
      "AI Message: \n",
      "AI Message: I have drafted the email requesting the immediate processing of encashment for 15 earned leaves with a total valuation of 32,000 INR. \n",
      "\n",
      "---\n",
      "\n",
      "Subject: Request for Immediate Processing of Earned Leave Encashment\n",
      "\n",
      "Dear [HR Manager's Name],\n",
      "\n",
      "I hope this message finds you well. I am writing to request the immediate processing of my earned leave encashment. As of today, [Date], I have a total of 15 earned leaves available for encashment. The total encashment value amounts to 32,000.0.\n",
      "\n",
      "I would appreciate it if you could expedite this process at your earliest convenience. Please let me know if you need any further information or documentation from my side to facilitate this request.\n",
      "\n",
      "Thank you for your attention to this matter.\n",
      "\n",
      "Best regards,\n",
      "\n",
      "[Your Name]  \n",
      "[Your Position]  \n",
      "[Your Contact Information]\n",
      "\n",
      "--- \n",
      "\n",
      "You can personalize it with your details before sending it to the HR Manager. Let me know if you need any further assistance!\n"
     ]
    }
   ],
   "source": [
    "from langchain_core.messages import BaseMessage, HumanMessage, AIMessage, ToolMessage\n",
    "import ast\n",
    "import json\n",
    "from langchain_core.messages.modifier import RemoveMessage\n",
    "\n",
    "for message in result[\"messages\"]:\n",
    "    if isinstance(message, AIMessage):\n",
    "        ai_message = message.content\n",
    "        print(f\"AI Message: {ai_message}\")\n",
    "        \n",
    "\n",
    "     "
   ]
  }
 ],
 "metadata": {
  "kernelspec": {
   "display_name": "aiagent",
   "language": "python",
   "name": "python3"
  },
  "language_info": {
   "codemirror_mode": {
    "name": "ipython",
    "version": 3
   },
   "file_extension": ".py",
   "mimetype": "text/x-python",
   "name": "python",
   "nbconvert_exporter": "python",
   "pygments_lexer": "ipython3",
   "version": "3.12.11"
  }
 },
 "nbformat": 4,
 "nbformat_minor": 5
}
